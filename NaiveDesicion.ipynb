{
  "nbformat": 4,
  "nbformat_minor": 0,
  "metadata": {
    "colab": {
      "name": "NaiveDesicion.ipynb",
      "provenance": [],
      "collapsed_sections": [],
      "authorship_tag": "ABX9TyNW4hgCIGadFG4tGitLgjGK",
      "include_colab_link": true
    },
    "kernelspec": {
      "name": "python3",
      "display_name": "Python 3"
    },
    "language_info": {
      "name": "python"
    }
  },
  "cells": [
    {
      "cell_type": "markdown",
      "metadata": {
        "id": "view-in-github",
        "colab_type": "text"
      },
      "source": [
        "<a href=\"https://colab.research.google.com/github/marinho14/Bayes-Tree/blob/main/NaiveDesicion.ipynb\" target=\"_parent\"><img src=\"https://colab.research.google.com/assets/colab-badge.svg\" alt=\"Open In Colab\"/></a>"
      ]
    },
    {
      "cell_type": "markdown",
      "metadata": {
        "id": "1MBQCDxL2eOX"
      },
      "source": [
        "# Punto 2\n"
      ]
    },
    {
      "cell_type": "code",
      "metadata": {
        "id": "OxoxSf962iqI"
      },
      "source": [
        "import numpy as np\n",
        "from sklearn.model_selection import train_test_split\n",
        "from sklearn import datasets\n",
        "from sklearn import svm\n",
        "from sklearn.preprocessing import StandardScaler\n",
        "from sklearn.naive_bayes import GaussianNB\n",
        "from sklearn.metrics import matthews_corrcoef\n",
        "from sklearn.metrics import f1_score\n",
        "from sklearn.metrics import accuracy_score\n",
        "from sklearn import tree\n",
        "from sklearn.tree import DecisionTreeClassifier\n",
        "from sklearn.naive_bayes import CategoricalNB\n",
        "from sklearn.preprocessing import MinMaxScaler\n",
        "from sklearn.naive_bayes import BernoulliNB"
      ],
      "execution_count": 40,
      "outputs": []
    },
    {
      "cell_type": "code",
      "metadata": {
        "id": "LVMzd1U82oR2"
      },
      "source": [
        "X, y = datasets.load_iris(return_X_y=True)\n",
        "sc= MinMaxScaler()\n",
        "sc.fit(X)\n",
        "X=sc.transform(X)\n",
        "X_train, X_test, y_train, y_test = train_test_split(X, y, test_size=0.25, random_state=0)"
      ],
      "execution_count": 41,
      "outputs": []
    },
    {
      "cell_type": "markdown",
      "metadata": {
        "id": "xdqfot_16A2s"
      },
      "source": [
        "## Naive Bayes\n"
      ]
    },
    {
      "cell_type": "code",
      "metadata": {
        "colab": {
          "base_uri": "https://localhost:8080/"
        },
        "id": "X-grPKtK4MYd",
        "outputId": "9204fa8e-7593-46ec-9c85-495ac903c390"
      },
      "source": [
        "gnb = GaussianNB()\n",
        "gnb.fit(X_train, y_train)\n",
        "y_pred=gnb.predict(X_test)\n",
        "print(\"MCC:\",matthews_corrcoef(y_test,y_pred))\n",
        "print(\"F1:\",f1_score(y_test,y_pred,average='micro'))\n",
        "print(\"Accuracy:\",accuracy_score(y_test, y_pred))"
      ],
      "execution_count": 42,
      "outputs": [
        {
          "output_type": "stream",
          "name": "stdout",
          "text": [
            "MCC: 1.0\n",
            "F1: 1.0\n",
            "Accuracy: 1.0\n"
          ]
        }
      ]
    },
    {
      "cell_type": "code",
      "metadata": {
        "colab": {
          "base_uri": "https://localhost:8080/"
        },
        "id": "ak7un9XUWa6Z",
        "outputId": "34cc0480-f75b-42d0-90c8-741676f8b883"
      },
      "source": [
        "MCC=[]\n",
        "F1=[]\n",
        "dd=[]\n",
        "for i in range(1, 29):\n",
        "  clf = BernoulliNB(alpha=i)\n",
        "  clf.fit(X_train, y_train)\n",
        "  y_pred= clf.predict(X_test)\n",
        "  MCC.append(matthews_corrcoef(y_test,y_pred))\n",
        "  F1.append(f1_score(y_test,y_pred,average='micro'))\n",
        "  dd.append(i)\n",
        "\n",
        "print(MCC)\n",
        "maximo_MCC = MCC.index(max(MCC))\n",
        "print(\"Segun MCC({}) el mejor alpha es {} :\".format(max(MCC),dd[maximo_MCC]))\n",
        "maximo_F1  = F1.index(max(F1))\n",
        "print(\"Segun F1({})  el mejor alpha es {} :\".format(max(F1),dd[maximo_F1]))"
      ],
      "execution_count": 43,
      "outputs": [
        {
          "output_type": "stream",
          "name": "stdout",
          "text": [
            "[0.1290510783886958, 0.1290510783886958, 0.1290510783886958, 0.1290510783886958, 0.1290510783886958, 0.1290510783886958, 0.1290510783886958, 0.1290510783886958, 0.1290510783886958, 0.1290510783886958, 0.1290510783886958, 0.1290510783886958, 0.1290510783886958, 0.1290510783886958, 0.1290510783886958, 0.1290510783886958, 0.1290510783886958, 0.1290510783886958, 0.1290510783886958, 0.1290510783886958, 0.1290510783886958, 0.1290510783886958, 0.1290510783886958, 0.1290510783886958, 0.1290510783886958, 0.1290510783886958, 0.1290510783886958, 0.1290510783886958]\n",
            "Segun MCC(0.1290510783886958) el mejor alpha es 1 :\n",
            "Segun F1(0.2631578947368421)  el mejor alpha es 1 :\n"
          ]
        }
      ]
    },
    {
      "cell_type": "markdown",
      "metadata": {
        "id": "-gbANQhX6FER"
      },
      "source": [
        "## Decision Tree\n"
      ]
    },
    {
      "cell_type": "code",
      "metadata": {
        "colab": {
          "base_uri": "https://localhost:8080/"
        },
        "id": "B68xU3_26K7A",
        "outputId": "3bc385d3-ac0f-47de-f048-c85e8e5bb071"
      },
      "source": [
        "clf = tree.DecisionTreeClassifier()\n",
        "clf.fit(X_train, y_train)\n",
        "y_pred_tree=clf.predict(X_test)\n",
        "print(\"MCC:\",matthews_corrcoef(y_test,y_pred_tree))\n",
        "print(\"F1:\",f1_score(y_test,y_pred_tree,average='micro'))\n",
        "print(\"Accuracy:\",accuracy_score(y_test, y_pred_tree))\n",
        "#tree.plot_tree(clf)"
      ],
      "execution_count": 44,
      "outputs": [
        {
          "output_type": "stream",
          "name": "stdout",
          "text": [
            "MCC: 0.9608244925752507\n",
            "F1: 0.9736842105263158\n",
            "Accuracy: 0.9736842105263158\n"
          ]
        }
      ]
    },
    {
      "cell_type": "code",
      "metadata": {
        "colab": {
          "base_uri": "https://localhost:8080/"
        },
        "id": "qbAM1PAB8c16",
        "outputId": "d4206982-b815-4b37-8553-a14005d0bf30"
      },
      "source": [
        "MCC=[]\n",
        "F1=[]\n",
        "dd=[]\n",
        "rr=[]\n",
        "for r in range(40):\n",
        "  for d in range(40):\n",
        "    decision_tree = DecisionTreeClassifier(random_state=0, max_depth=d+1)\n",
        "    decision_tree.fit(X_train, y_train)\n",
        "    y_pred_tree=decision_tree.predict(X_test)\n",
        "    MCC.append(matthews_corrcoef(y_test,y_pred_tree))\n",
        "    F1.append(f1_score(y_test,y_pred_tree,average='micro'))\n",
        "    dd.append(d)\n",
        "    rr.append(r)\n",
        "\n",
        "maximo_MCC = MCC.index(max(MCC))\n",
        "print(\"Segun MCC({}) el mejor depth es {} y el random es {}:\".format(max(MCC),dd[maximo_MCC]+1,rr[maximo_MCC]))\n",
        "maximo_F1  = F1.index(max(F1))\n",
        "print(\"Segun F1({})  el mejor depth es {} y el random es {}:\".format(max(F1),dd[maximo_F1]+1,rr[maximo_F1]))"
      ],
      "execution_count": 45,
      "outputs": [
        {
          "output_type": "stream",
          "name": "stdout",
          "text": [
            "Segun MCC(0.9608244925752507) el mejor depth es 3 y el random es 0:\n",
            "Segun F1(0.9736842105263158)  el mejor depth es 3 y el random es 0:\n"
          ]
        }
      ]
    },
    {
      "cell_type": "markdown",
      "metadata": {
        "id": "_4lZ9x3q-6mj"
      },
      "source": [
        "Segun lo visto el mejor resultado se vio con decision tree sin parametrizar\n"
      ]
    }
  ]
}