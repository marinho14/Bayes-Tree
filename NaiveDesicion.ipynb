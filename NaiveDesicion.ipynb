{
  "nbformat": 4,
  "nbformat_minor": 0,
  "metadata": {
    "colab": {
      "name": "NaiveDesicion.ipynb",
      "provenance": [],
      "collapsed_sections": [],
      "authorship_tag": "ABX9TyNsMlDUB57dlQzvQJtOr9MV",
      "include_colab_link": true
    },
    "kernelspec": {
      "name": "python3",
      "display_name": "Python 3"
    },
    "language_info": {
      "name": "python"
    }
  },
  "cells": [
    {
      "cell_type": "markdown",
      "metadata": {
        "id": "view-in-github",
        "colab_type": "text"
      },
      "source": [
        "<a href=\"https://colab.research.google.com/github/marinho14/Bayes-Tree/blob/main/NaiveDesicion.ipynb\" target=\"_parent\"><img src=\"https://colab.research.google.com/assets/colab-badge.svg\" alt=\"Open In Colab\"/></a>"
      ]
    },
    {
      "cell_type": "markdown",
      "metadata": {
        "id": "1MBQCDxL2eOX"
      },
      "source": [
        "# Punto 2\n"
      ]
    },
    {
      "cell_type": "code",
      "metadata": {
        "id": "OxoxSf962iqI"
      },
      "source": [
        "import numpy as np\n",
        "from sklearn.model_selection import train_test_split\n",
        "from sklearn import datasets\n",
        "from sklearn import svm\n",
        "from sklearn.preprocessing import StandardScaler\n",
        "from sklearn.naive_bayes import GaussianNB\n",
        "from sklearn.metrics import matthews_corrcoef\n",
        "from sklearn.metrics import f1_score\n",
        "from sklearn.metrics import accuracy_score\n",
        "from sklearn import tree\n",
        "from sklearn.tree import DecisionTreeClassifier"
      ],
      "execution_count": null,
      "outputs": []
    },
    {
      "cell_type": "code",
      "metadata": {
        "id": "LVMzd1U82oR2"
      },
      "source": [
        "X, y = datasets.load_iris(return_X_y=True)\n",
        "sc= StandardScaler()\n",
        "sc.fit(X)\n",
        "X=sc.transform(X)\n",
        "X_train, X_test, y_train, y_test = train_test_split(X, y, test_size=0.5, random_state=0)"
      ],
      "execution_count": null,
      "outputs": []
    },
    {
      "cell_type": "markdown",
      "metadata": {
        "id": "xdqfot_16A2s"
      },
      "source": [
        "## Naive Bayes\n"
      ]
    },
    {
      "cell_type": "code",
      "metadata": {
        "colab": {
          "base_uri": "https://localhost:8080/"
        },
        "id": "X-grPKtK4MYd",
        "outputId": "39822793-cb50-41ec-ca90-d6250f5d34d5"
      },
      "source": [
        "gnb = GaussianNB()\n",
        "gnb.fit(X_train, y_train)\n",
        "y_pred=gnb.predict(X_test)\n",
        "print(\"MCC:\",matthews_corrcoef(y_test,y_pred))\n",
        "print(\"F1:\",f1_score(y_test,y_pred,average='micro'))\n",
        "print(\"Accuracy:\",accuracy_score(y_test, y_pred))"
      ],
      "execution_count": null,
      "outputs": [
        {
          "output_type": "stream",
          "name": "stdout",
          "text": [
            "MCC: 0.9226284715285437\n",
            "F1: 0.9466666666666667\n",
            "Accuracy: 0.9466666666666667\n"
          ]
        }
      ]
    },
    {
      "cell_type": "markdown",
      "metadata": {
        "id": "-gbANQhX6FER"
      },
      "source": [
        "## Decision Tree\n"
      ]
    },
    {
      "cell_type": "code",
      "metadata": {
        "colab": {
          "base_uri": "https://localhost:8080/"
        },
        "id": "B68xU3_26K7A",
        "outputId": "f2fcce15-9327-48ee-f400-ffb6c636a264"
      },
      "source": [
        "clf = tree.DecisionTreeClassifier()\n",
        "clf.fit(X_train, y_train)\n",
        "y_pred_tree=clf.predict(X_test)\n",
        "print(\"MCC:\",matthews_corrcoef(y_test,y_pred_tree))\n",
        "print(\"F1:\",f1_score(y_test,y_pred_tree,average='micro'))\n",
        "print(\"Accuracy:\",accuracy_score(y_test, y_pred_tree))\n",
        "#tree.plot_tree(clf)"
      ],
      "execution_count": null,
      "outputs": [
        {
          "output_type": "stream",
          "name": "stdout",
          "text": [
            "MCC: 0.9394774977544484\n",
            "F1: 0.96\n",
            "Accuracy: 0.96\n"
          ]
        }
      ]
    },
    {
      "cell_type": "code",
      "metadata": {
        "colab": {
          "base_uri": "https://localhost:8080/"
        },
        "id": "qbAM1PAB8c16",
        "outputId": "fb84282c-3f80-45e5-cff8-73ac3f9fff33"
      },
      "source": [
        "MCC=[]\n",
        "F1=[]\n",
        "dd=[]\n",
        "rr=[]\n",
        "for r in range(20):\n",
        "  for d in range(20):\n",
        "    decision_tree = DecisionTreeClassifier(random_state=0, max_depth=d+1)\n",
        "    decision_tree.fit(X_train, y_train)\n",
        "    y_pred_tree=decision_tree.predict(X_test)\n",
        "    MCC.append(matthews_corrcoef(y_test,y_pred))\n",
        "    F1.append(f1_score(y_test,y_pred,average='micro'))\n",
        "    dd.append(d)\n",
        "    rr.append(r)\n",
        "\n",
        "maximo_MCC = MCC.index(max(MCC))\n",
        "print(\"Segun MCC({}) el mejor depth es {} y el random es {}:\".format(max(MCC),dd[maximo_MCC]+1,rr[maximo_MCC]))\n",
        "maximo_F1  = F1.index(max(F1))\n",
        "print(\"Segun F1({})  el mejor depth es {} y el random es {}:\".format(max(F1),dd[maximo_F1]+1,rr[maximo_F1]))"
      ],
      "execution_count": null,
      "outputs": [
        {
          "output_type": "stream",
          "name": "stdout",
          "text": [
            "Segun MCC(0.9226284715285437) el mejor depth es 1 y el random es 0:\n",
            "Segun F1(0.9466666666666667)  el mejor depth es 1 y el random es 0:\n"
          ]
        }
      ]
    },
    {
      "cell_type": "markdown",
      "metadata": {
        "id": "_4lZ9x3q-6mj"
      },
      "source": [
        "Segun lo visto el mejor resultado se vio con decision tree sin parametrizar\n"
      ]
    }
  ]
}